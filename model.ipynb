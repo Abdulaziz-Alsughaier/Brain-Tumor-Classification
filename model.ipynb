{
 "cells": [
  {
   "attachments": {},
   "cell_type": "markdown",
   "metadata": {},
   "source": [
    "Importing Libs"
   ]
  },
  {
   "cell_type": "code",
   "execution_count": 3,
   "metadata": {},
   "outputs": [],
   "source": [
    "import tensorflow as tf # for deep learning\n",
    "from tensorflow import keras # for deep learning\n",
    "# from tensorflow.keras import backend as bk # for deep learning\n",
    "# from tensorflow.keras.model import Model, load_model, Sequential \n",
    "import numpy as np # for handling arrays\n",
    "import pandas as pd # for data handling\n",
    "import seaborn as sb # for visualization\n",
    "import time\n",
    "import cv2\n",
    "## TO DO, ADD MORE IMPORTS FOR METRICS AND NEEDED IMPORTING FOR EFFECIENTNET"
   ]
  },
  {
   "attachments": {},
   "cell_type": "markdown",
   "metadata": {},
   "source": [
    "Keras Callback Class"
   ]
  },
  {
   "cell_type": "code",
   "execution_count": null,
   "metadata": {},
   "outputs": [],
   "source": [
    "#create keras callback to save model after each epoch\n",
    "class save_model(keras.callbacks.Callback):\n",
    "    \n",
    "    def __init__(self,model,original_model,patience,stop_patience,threshold,factor,dwell, batches, inital_epoch, epochs, ask_epoch):\n",
    "        super(save_model, self).__init__()\n",
    "        self.model = model\n",
    "        self.original_model = original_model\n",
    "        self.patience = patience\n",
    "        self.stop_patience = stop_patience\n",
    "        self.threshold = threshold\n",
    "        self.factor = factor\n",
    "        self.dwell = dwell\n",
    "        self.batches = batches\n",
    "        self.inital_epoch = inital_epoch\n",
    "        self.epochs = epochs\n",
    "        self.ask_epoch = ask_epoch\n",
    "        \n",
    "        self.counter = 0\n",
    "        self.stop_counter = 0\n",
    "        self.best_epoch = 1 # Store lowest lost \n",
    "        # self.initial_learning_rate = \n",
    "        self.highest_acc = 0\n",
    "        self.lowest_vloss = -500\n",
    "        self.best_weights = self.model.get_weights()\n",
    "        self.inital_weights = self.model.get_weights()\n",
    "\n",
    "    def on_train_begin(self, logs=None):\n",
    "        if self.original_model != None:\n",
    "            status = self.original_model.trianable\n",
    "            if status:\n",
    "                message = 'Callback starting train with original model trainable'\n",
    "            else:\n",
    "                message = 'Callback starting train with original model not trainable'\n",
    "        else:\n",
    "            message = 'Callback starting train with no original model'\n",
    "            \n",
    "        print(message)\n",
    "        message = '{0:^8s}{1:^10s}{2:^9s}{3:^9s}{4:^9s}{5:^9s}{6:^9s}{7:^10s}{8:^8s}'.format('Epoch', 'Loss', 'Accuracy',\n",
    "                                                                                              'V_loss','V_acc', 'LR', 'Next LR', 'Monitor', 'Duration')\n",
    "        print(message)\n",
    "        \n",
    "        self.s_time = time.time()\n",
    "        \n",
    "        \n",
    "        # TO DO create on_train_end. on_epoch_end, on_epoch_begin\n",
    "        "
   ]
  },
  {
   "attachments": {},
   "cell_type": "markdown",
   "metadata": {},
   "source": [
    "Function to create Training Plot"
   ]
  },
  {
   "cell_type": "code",
   "execution_count": null,
   "metadata": {},
   "outputs": [],
   "source": [
    "# Create a plot for training data"
   ]
  },
  {
   "attachments": {},
   "cell_type": "markdown",
   "metadata": {},
   "source": [
    "Function to create Confusion Matrix / report"
   ]
  },
  {
   "cell_type": "code",
   "execution_count": null,
   "metadata": {},
   "outputs": [],
   "source": [
    "# Confusion Matrix"
   ]
  },
  {
   "attachments": {},
   "cell_type": "markdown",
   "metadata": {},
   "source": [
    "Creating the model  "
   ]
  },
  {
   "cell_type": "code",
   "execution_count": null,
   "metadata": {},
   "outputs": [],
   "source": [
    "# Code here"
   ]
  },
  {
   "attachments": {},
   "cell_type": "markdown",
   "metadata": {},
   "source": [
    "Training the model"
   ]
  }
 ],
 "metadata": {
  "kernelspec": {
   "display_name": "Python 3",
   "language": "python",
   "name": "python3"
  },
  "language_info": {
   "codemirror_mode": {
    "name": "ipython",
    "version": 3
   },
   "file_extension": ".py",
   "mimetype": "text/x-python",
   "name": "python",
   "nbconvert_exporter": "python",
   "pygments_lexer": "ipython3",
   "version": "3.9.6 (tags/v3.9.6:db3ff76, Jun 28 2021, 15:26:21) [MSC v.1929 64 bit (AMD64)]"
  },
  "orig_nbformat": 4,
  "vscode": {
   "interpreter": {
    "hash": "7411ba0b0f181b4ca3f7dd385c7b7fba7283a50b16eb80d76ecfdd04f2e3a7eb"
   }
  }
 },
 "nbformat": 4,
 "nbformat_minor": 2
}
